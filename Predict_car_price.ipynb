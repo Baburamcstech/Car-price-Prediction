{
 "cells": [
  {
   "cell_type": "code",
   "execution_count": 2,
   "id": "854e9dd6",
   "metadata": {},
   "outputs": [],
   "source": [
    "import numpy as np\n",
    "import pandas as pd"
   ]
  },
  {
   "cell_type": "markdown",
   "id": "ca8048a3",
   "metadata": {},
   "source": [
    "## Taking data"
   ]
  },
  {
   "cell_type": "code",
   "execution_count": 18,
   "id": "89287a2f",
   "metadata": {},
   "outputs": [],
   "source": [
    "data=pd.read_csv(\"CarPrice_Assignment.csv\")\n",
    "data.head()\n",
    "X=data.iloc[:,[1,2,3,4,5,6,7,8,9,10,11,12,13,14,15,16,17,18,19,20,21,22,23,24]].values\n",
    "Y=data.iloc[:,[-1]].values\n",
    "Y=Y.reshape(-1,1)\n",
    "#print(Y)"
   ]
  },
  {
   "cell_type": "markdown",
   "id": "8d78ecd9",
   "metadata": {},
   "source": [
    "# Dealing with invalid data"
   ]
  },
  {
   "cell_type": "code",
   "execution_count": 4,
   "id": "c607b308",
   "metadata": {},
   "outputs": [
    {
     "name": "stdout",
     "output_type": "stream",
     "text": [
      "[[13495.   ]\n",
      " [16500.   ]\n",
      " [16500.   ]\n",
      " [13950.   ]\n",
      " [17450.   ]\n",
      " [15250.   ]\n",
      " [17710.   ]\n",
      " [18920.   ]\n",
      " [23875.   ]\n",
      " [17859.167]\n",
      " [16430.   ]\n",
      " [16925.   ]\n",
      " [20970.   ]\n",
      " [21105.   ]\n",
      " [24565.   ]\n",
      " [30760.   ]\n",
      " [41315.   ]\n",
      " [36880.   ]\n",
      " [ 5151.   ]\n",
      " [ 6295.   ]\n",
      " [ 6575.   ]\n",
      " [ 5572.   ]\n",
      " [ 6377.   ]\n",
      " [ 7957.   ]\n",
      " [ 6229.   ]\n",
      " [ 6692.   ]\n",
      " [ 7609.   ]\n",
      " [ 8558.   ]\n",
      " [ 8921.   ]\n",
      " [12964.   ]\n",
      " [ 6479.   ]\n",
      " [ 6855.   ]\n",
      " [ 5399.   ]\n",
      " [ 6529.   ]\n",
      " [ 7129.   ]\n",
      " [ 7295.   ]\n",
      " [ 7295.   ]\n",
      " [ 7895.   ]\n",
      " [ 9095.   ]\n",
      " [ 8845.   ]\n",
      " [10295.   ]\n",
      " [12945.   ]\n",
      " [10345.   ]\n",
      " [ 6785.   ]\n",
      " [ 8916.5  ]\n",
      " [ 8916.5  ]\n",
      " [11048.   ]\n",
      " [32250.   ]\n",
      " [35550.   ]\n",
      " [36000.   ]\n",
      " [ 5195.   ]\n",
      " [ 6095.   ]\n",
      " [ 6795.   ]\n",
      " [ 6695.   ]\n",
      " [ 7395.   ]\n",
      " [10945.   ]\n",
      " [11845.   ]\n",
      " [13645.   ]\n",
      " [15645.   ]\n",
      " [ 8845.   ]\n",
      " [ 8495.   ]\n",
      " [10595.   ]\n",
      " [10245.   ]\n",
      " [10795.   ]\n",
      " [11245.   ]\n",
      " [18280.   ]\n",
      " [18344.   ]\n",
      " [25552.   ]\n",
      " [28248.   ]\n",
      " [28176.   ]\n",
      " [31600.   ]\n",
      " [34184.   ]\n",
      " [35056.   ]\n",
      " [40960.   ]\n",
      " [45400.   ]\n",
      " [16503.   ]\n",
      " [ 5389.   ]\n",
      " [ 6189.   ]\n",
      " [ 6669.   ]\n",
      " [ 7689.   ]\n",
      " [ 9959.   ]\n",
      " [ 8499.   ]\n",
      " [12629.   ]\n",
      " [14869.   ]\n",
      " [14489.   ]\n",
      " [ 6989.   ]\n",
      " [ 8189.   ]\n",
      " [ 9279.   ]\n",
      " [ 9279.   ]\n",
      " [ 5499.   ]\n",
      " [ 7099.   ]\n",
      " [ 6649.   ]\n",
      " [ 6849.   ]\n",
      " [ 7349.   ]\n",
      " [ 7299.   ]\n",
      " [ 7799.   ]\n",
      " [ 7499.   ]\n",
      " [ 7999.   ]\n",
      " [ 8249.   ]\n",
      " [ 8949.   ]\n",
      " [ 9549.   ]\n",
      " [13499.   ]\n",
      " [14399.   ]\n",
      " [13499.   ]\n",
      " [17199.   ]\n",
      " [19699.   ]\n",
      " [18399.   ]\n",
      " [11900.   ]\n",
      " [13200.   ]\n",
      " [12440.   ]\n",
      " [13860.   ]\n",
      " [15580.   ]\n",
      " [16900.   ]\n",
      " [16695.   ]\n",
      " [17075.   ]\n",
      " [16630.   ]\n",
      " [17950.   ]\n",
      " [18150.   ]\n",
      " [ 5572.   ]\n",
      " [ 7957.   ]\n",
      " [ 6229.   ]\n",
      " [ 6692.   ]\n",
      " [ 7609.   ]\n",
      " [ 8921.   ]\n",
      " [12764.   ]\n",
      " [22018.   ]\n",
      " [32528.   ]\n",
      " [34028.   ]\n",
      " [37028.   ]\n",
      " [31400.5  ]\n",
      " [ 9295.   ]\n",
      " [ 9895.   ]\n",
      " [11850.   ]\n",
      " [12170.   ]\n",
      " [15040.   ]\n",
      " [15510.   ]\n",
      " [18150.   ]\n",
      " [18620.   ]\n",
      " [ 5118.   ]\n",
      " [ 7053.   ]\n",
      " [ 7603.   ]\n",
      " [ 7126.   ]\n",
      " [ 7775.   ]\n",
      " [ 9960.   ]\n",
      " [ 9233.   ]\n",
      " [11259.   ]\n",
      " [ 7463.   ]\n",
      " [10198.   ]\n",
      " [ 8013.   ]\n",
      " [11694.   ]\n",
      " [ 5348.   ]\n",
      " [ 6338.   ]\n",
      " [ 6488.   ]\n",
      " [ 6918.   ]\n",
      " [ 7898.   ]\n",
      " [ 8778.   ]\n",
      " [ 6938.   ]\n",
      " [ 7198.   ]\n",
      " [ 7898.   ]\n",
      " [ 7788.   ]\n",
      " [ 7738.   ]\n",
      " [ 8358.   ]\n",
      " [ 9258.   ]\n",
      " [ 8058.   ]\n",
      " [ 8238.   ]\n",
      " [ 9298.   ]\n",
      " [ 9538.   ]\n",
      " [ 8449.   ]\n",
      " [ 9639.   ]\n",
      " [ 9989.   ]\n",
      " [11199.   ]\n",
      " [11549.   ]\n",
      " [17669.   ]\n",
      " [ 8948.   ]\n",
      " [10698.   ]\n",
      " [ 9988.   ]\n",
      " [10898.   ]\n",
      " [11248.   ]\n",
      " [16558.   ]\n",
      " [15998.   ]\n",
      " [15690.   ]\n",
      " [15750.   ]\n",
      " [ 7775.   ]\n",
      " [ 7975.   ]\n",
      " [ 7995.   ]\n",
      " [ 8195.   ]\n",
      " [ 8495.   ]\n",
      " [ 9495.   ]\n",
      " [ 9995.   ]\n",
      " [11595.   ]\n",
      " [ 9980.   ]\n",
      " [13295.   ]\n",
      " [13845.   ]\n",
      " [12290.   ]\n",
      " [12940.   ]\n",
      " [13415.   ]\n",
      " [15985.   ]\n",
      " [16515.   ]\n",
      " [18420.   ]\n",
      " [18950.   ]\n",
      " [16845.   ]\n",
      " [19045.   ]\n",
      " [21485.   ]\n",
      " [22470.   ]\n",
      " [22625.   ]]\n"
     ]
    },
    {
     "name": "stderr",
     "output_type": "stream",
     "text": [
      "C:\\ProgramData\\Anaconda3\\lib\\site-packages\\sklearn\\impute\\_base.py:49: FutureWarning: Unlike other reduction functions (e.g. `skew`, `kurtosis`), the default behavior of `mode` typically preserves the axis it acts along. In SciPy 1.11.0, this behavior will change: the default value of `keepdims` will become False, the `axis` over which the statistic is taken will be eliminated, and the value None will no longer be accepted. Set `keepdims` to True or False to avoid this warning.\n",
      "  mode = stats.mode(array)\n"
     ]
    }
   ],
   "source": [
    "import sklearn as sk\n",
    "from sklearn.impute import SimpleImputer\n",
    "si=SimpleImputer(missing_values=np.nan,strategy='most_frequent')\n",
    "X=si.fit_transform(X)\n",
    "Y=si.fit_transform(Y)\n",
    "print(Y)"
   ]
  },
  {
   "cell_type": "markdown",
   "id": "d371c1b6",
   "metadata": {},
   "source": [
    "# Encoding string or char data into numeric"
   ]
  },
  {
   "cell_type": "code",
   "execution_count": 5,
   "id": "e094f59f",
   "metadata": {},
   "outputs": [
    {
     "name": "stdout",
     "output_type": "stream",
     "text": [
      "[[3 2 1 ... 5000 21 27]\n",
      " [3 3 1 ... 5000 21 27]\n",
      " [1 1 1 ... 5000 19 26]\n",
      " ...\n",
      " [-1 140 1 ... 5500 18 23]\n",
      " [-1 142 0 ... 4800 26 27]\n",
      " [-1 143 1 ... 5400 19 25]]\n"
     ]
    }
   ],
   "source": [
    "from sklearn.preprocessing import LabelEncoder\n",
    "le=LabelEncoder()\n",
    "X[:,1]=le.fit_transform(X[:,1])\n",
    "X[:,2]=le.fit_transform(X[:,2])\n",
    "X[:,3]=le.fit_transform(X[:,3])\n",
    "X[:,4]=le.fit_transform(X[:,4])\n",
    "X[:,5]=le.fit_transform(X[:,5])\n",
    "X[:,6]=le.fit_transform(X[:,6])\n",
    "X[:,7]=le.fit_transform(X[:,7])\n",
    "X[:,13]=le.fit_transform(X[:,13])\n",
    "X[:,14]=le.fit_transform(X[:,14])\n",
    "X[:,16]=le.fit_transform(X[:,16])\n",
    "print(X)"
   ]
  },
  {
   "cell_type": "markdown",
   "id": "9f811a40",
   "metadata": {},
   "source": [
    "# Features scaling\n",
    "### ravel() function conver nD array into 1D array"
   ]
  },
  {
   "cell_type": "code",
   "execution_count": 6,
   "id": "1f5449e3",
   "metadata": {},
   "outputs": [
    {
     "name": "stdout",
     "output_type": "stream",
     "text": [
      "[ 2.73911432e-02  4.04461099e-01  4.04461099e-01  8.44849301e-02\n",
      "  5.23667906e-01  2.47610036e-01  5.56292928e-01  7.08124756e-01\n",
      "  1.32988237e+00  5.75010530e-01  3.95677439e-01  4.57790460e-01\n",
      "  9.65360500e-01  9.82300415e-01  1.41646416e+00  2.19381802e+00\n",
      "  3.51826840e+00  2.96176083e+00 -1.01962107e+00 -8.76070979e-01\n",
      " -8.40936341e-01 -9.66793634e-01 -8.65781550e-01 -6.67521806e-01\n",
      " -8.84352716e-01 -8.26255082e-01 -7.11189142e-01 -5.92107815e-01\n",
      " -5.46558266e-01 -3.92391883e-02 -8.52982503e-01 -8.05801703e-01\n",
      " -9.88501821e-01 -8.46708460e-01 -7.71419950e-01 -7.50590129e-01\n",
      " -7.50590129e-01 -6.75301619e-01 -5.24724598e-01 -5.56094811e-01\n",
      " -3.74147578e-01 -4.16233245e-02 -3.67873535e-01 -8.14585363e-01\n",
      " -5.47122930e-01 -5.47122930e-01 -2.79660498e-01  2.38078449e+00\n",
      "  2.79487130e+00  2.85133768e+00 -1.01409991e+00 -9.01167150e-01\n",
      " -8.13330554e-01 -8.25878639e-01 -7.38042044e-01 -2.92585025e-01\n",
      " -1.79652260e-01  4.62132708e-02  2.97174972e-01 -5.56094811e-01\n",
      " -6.00013109e-01 -3.36503323e-01 -3.80421620e-01 -3.11407153e-01\n",
      " -2.54940770e-01  6.27817012e-01  6.35847787e-01  1.54031376e+00\n",
      "  1.87861013e+00  1.86957551e+00  2.29922194e+00  2.62346446e+00\n",
      "  2.73288376e+00  3.47372270e+00  4.03085767e+00  4.04837541e-01\n",
      " -9.89756630e-01 -8.89371950e-01 -8.29141141e-01 -7.01150674e-01\n",
      " -4.16309144e-01 -5.99511185e-01 -8.12752732e-02  1.99801832e-01\n",
      "  1.52119108e-01 -7.88987269e-01 -6.38410249e-01 -5.01636122e-01\n",
      " -5.01636122e-01 -9.75953736e-01 -7.75184376e-01 -8.31650758e-01\n",
      " -8.06554588e-01 -7.43814163e-01 -7.50088206e-01 -6.87347781e-01\n",
      " -7.24992036e-01 -6.62251610e-01 -6.30881398e-01 -5.43044803e-01\n",
      " -4.67756292e-01  2.78930666e-02  1.40825832e-01  2.78930666e-02\n",
      "  4.92172213e-01  8.05874339e-01  6.42749233e-01 -1.72750813e-01\n",
      " -9.62570765e-03 -1.04991154e-01  7.31916536e-02  2.89018716e-01\n",
      "  4.54653439e-01  4.28929864e-01  4.76612588e-01  4.20773609e-01\n",
      "  5.86408332e-01  6.11504502e-01 -9.66793634e-01 -6.67521806e-01\n",
      " -8.84352716e-01 -8.26255082e-01 -7.11189142e-01 -5.46558266e-01\n",
      " -6.43353584e-02  1.09686443e+00  2.41566817e+00  2.60388944e+00\n",
      "  2.98033200e+00  2.27418851e+00 -4.99628428e-01 -4.24339918e-01\n",
      " -1.79024856e-01 -1.38870984e-01  2.21259057e-01  2.80235057e-01\n",
      "  6.11504502e-01  6.70480501e-01 -1.02376194e+00 -7.80956495e-01\n",
      " -7.11942027e-01 -7.71796393e-01 -6.90359321e-01 -4.16183663e-01\n",
      " -5.07408241e-01 -2.53184038e-01 -7.29509346e-01 -3.86319220e-01\n",
      " -6.60494879e-01 -1.98599868e-01 -9.94901345e-01 -8.70675303e-01\n",
      " -8.51853175e-01 -7.97896410e-01 -6.74925176e-01 -5.64502028e-01\n",
      " -7.95386793e-01 -7.62761772e-01 -6.74925176e-01 -6.88728070e-01\n",
      " -6.95002112e-01 -6.17203985e-01 -5.04271220e-01 -6.54848240e-01\n",
      " -6.32261687e-01 -4.99251986e-01 -4.69136582e-01 -6.05785228e-01\n",
      " -4.56463016e-01 -4.12544718e-01 -2.60712889e-01 -2.16794592e-01\n",
      "  5.51148213e-01 -5.43170283e-01 -3.23578795e-01 -4.12670199e-01\n",
      " -2.98482625e-01 -2.54564328e-01  4.11738988e-01  3.41469712e-01\n",
      "  3.02821610e-01  3.10350461e-01 -6.90359321e-01 -6.65263151e-01\n",
      " -6.62753534e-01 -6.37657364e-01 -6.00013109e-01 -4.74532258e-01\n",
      " -4.11791833e-01 -2.11022472e-01 -4.13674046e-01  2.29497314e-03\n",
      "  7.13094408e-02 -1.23813281e-01 -4.22507287e-02  1.73526752e-02\n",
      "  3.39838461e-01  4.06343311e-01  6.45384331e-01  7.11889182e-01\n",
      "  4.47751992e-01  7.23809863e-01  1.02998314e+00  1.15358178e+00\n",
      "  1.17303131e+00]\n"
     ]
    }
   ],
   "source": [
    "from sklearn.preprocessing import StandardScaler\n",
    "sc=StandardScaler()\n",
    "X=sc.fit_transform(X)\n",
    "sc1=StandardScaler()\n",
    "Y=sc1.fit_transform(Y)\n",
    "Y=Y.ravel()\n",
    "print(Y)\n"
   ]
  },
  {
   "cell_type": "markdown",
   "id": "4bec99ec",
   "metadata": {},
   "source": [
    "# splitting data as training and testing"
   ]
  },
  {
   "cell_type": "code",
   "execution_count": 7,
   "id": "5b43d853",
   "metadata": {},
   "outputs": [
    {
     "name": "stdout",
     "output_type": "stream",
     "text": [
      "[ 5.23667906e-01  2.62346446e+00  2.21259057e-01 -2.53184038e-01\n",
      " -7.11189142e-01 -7.11189142e-01  1.99801832e-01 -1.98599868e-01\n",
      " -6.00013109e-01  1.32988237e+00 -7.75184376e-01 -6.54848240e-01\n",
      " -3.36503323e-01  4.04837541e-01  6.42749233e-01 -3.11407153e-01\n",
      "  6.45384331e-01 -4.16183663e-01 -8.84352716e-01 -8.52982503e-01\n",
      "  2.80235057e-01 -3.74147578e-01 -6.00013109e-01 -1.79652260e-01\n",
      "  2.78930666e-02 -6.38410249e-01 -8.76070979e-01 -5.64502028e-01\n",
      " -6.62251610e-01 -7.38042044e-01 -6.62753534e-01 -9.01167150e-01\n",
      " -7.80956495e-01 -7.71796393e-01  4.54653439e-01 -7.24992036e-01\n",
      " -1.72750813e-01 -7.29509346e-01  7.31916536e-02  4.11738988e-01\n",
      "  1.41646416e+00 -5.92107815e-01 -9.62570765e-03 -6.37657364e-01\n",
      "  2.41566817e+00 -2.79660498e-01  2.29497314e-03  4.47751992e-01\n",
      " -5.04271220e-01 -3.80421620e-01  4.04461099e-01 -5.56094811e-01\n",
      " -5.46558266e-01 -6.43353584e-02 -8.14585363e-01  3.95677439e-01\n",
      " -1.04991154e-01  3.47372270e+00  3.39838461e-01 -6.90359321e-01\n",
      " -9.94901345e-01 -6.30881398e-01  8.44849301e-02 -7.43814163e-01\n",
      " -9.66793634e-01 -6.95002112e-01  7.11889182e-01 -1.01409991e+00\n",
      "  2.73911432e-02 -7.50088206e-01  5.86408332e-01 -6.87347781e-01\n",
      " -2.54940770e-01 -5.07408241e-01 -4.16233245e-02  1.86957551e+00\n",
      "  2.85133768e+00  2.79487130e+00 -7.88987269e-01  1.02998314e+00\n",
      "  9.82300415e-01 -7.97896410e-01 -6.67521806e-01 -4.13674046e-01\n",
      "  6.70480501e-01 -8.40936341e-01  2.19381802e+00 -8.29141141e-01\n",
      " -4.67756292e-01 -4.69136582e-01  1.15358178e+00  5.56292928e-01\n",
      "  1.87861013e+00  1.52119108e-01 -8.26255082e-01 -7.62761772e-01\n",
      " -4.74532258e-01 -6.74925176e-01 -8.31650758e-01 -2.98482625e-01\n",
      "  4.57790460e-01 -6.67521806e-01  1.40825832e-01 -7.50590129e-01\n",
      "  4.62132708e-02  6.27817012e-01  4.04461099e-01 -8.84352716e-01\n",
      " -6.32261687e-01 -3.67873535e-01  8.05874339e-01 -1.79024856e-01\n",
      " -2.54564328e-01  2.96176083e+00 -5.24724598e-01 -1.38870984e-01\n",
      " -8.25878639e-01 -6.88728070e-01  2.98033200e+00 -7.71419950e-01\n",
      " -5.46558266e-01  4.76612588e-01 -8.70675303e-01 -8.05801703e-01\n",
      " -4.56463016e-01  2.60388944e+00  3.02821610e-01 -9.88501821e-01\n",
      " -6.05785228e-01 -6.90359321e-01  1.17303131e+00 -3.86319220e-01\n",
      " -3.92391883e-02 -5.43044803e-01 -8.12752732e-02 -4.12670199e-01\n",
      " -7.01150674e-01  4.20773609e-01 -6.60494879e-01  4.06343311e-01\n",
      "  2.73288376e+00 -8.89371950e-01 -8.26255082e-01 -4.99251986e-01\n",
      " -5.99511185e-01  7.23809863e-01 -3.23578795e-01 -4.22507287e-02\n",
      " -5.56094811e-01  2.97174972e-01 -7.11942027e-01 -5.01636122e-01\n",
      "  2.29922194e+00 -5.01636122e-01 -7.50590129e-01 -9.66793634e-01\n",
      "  5.75010530e-01  2.78930666e-02  1.73526752e-02  1.54031376e+00\n",
      "  7.13094408e-02  6.11504502e-01  2.38078449e+00  5.51148213e-01]\n"
     ]
    }
   ],
   "source": [
    "from sklearn.model_selection import train_test_split\n",
    "X_train,X_test,Y_train,Y_test=train_test_split(X,Y,test_size=0.2,random_state=0)\n",
    "print(Y_train)"
   ]
  },
  {
   "cell_type": "markdown",
   "id": "f7e16949",
   "metadata": {},
   "source": [
    "# Training Model"
   ]
  },
  {
   "cell_type": "code",
   "execution_count": 8,
   "id": "7b614c97",
   "metadata": {},
   "outputs": [
    {
     "data": {
      "text/plain": [
       "0.9902780236125904"
      ]
     },
     "execution_count": 8,
     "metadata": {},
     "output_type": "execute_result"
    }
   ],
   "source": [
    "from sklearn.ensemble import RandomForestRegressor\n",
    "regressor=RandomForestRegressor(random_state=0)\n",
    "regressor.fit(X_train,Y_train)\n",
    "regressor.score(X_train,Y_train)"
   ]
  },
  {
   "cell_type": "markdown",
   "id": "6a1dea48",
   "metadata": {},
   "source": [
    "# Prediction\n"
   ]
  },
  {
   "cell_type": "code",
   "execution_count": 9,
   "id": "e077f916",
   "metadata": {},
   "outputs": [
    {
     "name": "stdout",
     "output_type": "stream",
     "text": [
      "[[-0.81333055 -0.92448902]\n",
      " [ 0.31035046  0.3749984 ]\n",
      " [ 0.24761004  0.13808972]\n",
      " [-1.01962107 -0.9327557 ]\n",
      " [-0.41179183 -0.46519648]\n",
      " [-0.26071289  0.14747381]\n",
      " [-0.98975663 -0.92184765]\n",
      " [-0.67492518 -0.71238121]\n",
      " [ 0.49217221  0.56933332]\n",
      " [-0.84670846 -0.82032109]\n",
      " [ 0.9653605   0.72563184]\n",
      " [ 2.27418851  2.68773951]\n",
      " [-0.29258503 -0.07209133]\n",
      " [ 0.63584779  0.16919454]\n",
      " [-0.54712293 -0.8549902 ]\n",
      " [-0.41254472 -0.02639999]\n",
      " [-0.49962843 -0.09706557]\n",
      " [ 0.70812476  0.63093919]\n",
      " [-0.67530162 -0.58232784]\n",
      " [-0.85185318 -0.85941842]\n",
      " [-0.41630914 -0.4685142 ]\n",
      " [ 0.28901872  0.21824626]\n",
      " [-0.42433992 -0.32875844]\n",
      " [-0.21679459  0.20626535]\n",
      " [ 0.34146971  0.54087405]\n",
      " [-1.02376194 -0.75776512]\n",
      " [-0.79538679 -0.66585417]\n",
      " [ 0.42892986  0.13535989]\n",
      " [-0.61720399 -0.689427  ]\n",
      " [-0.97595374 -0.61827057]\n",
      " [-0.66526315 -0.61263146]\n",
      " [-0.12381328 -0.08942024]\n",
      " [ 1.09686443  0.24787731]\n",
      " [-0.54317028 -0.40692067]\n",
      " [-0.80655459 -0.76547718]\n",
      " [ 3.5182684   2.48404896]\n",
      " [-0.21102247 -0.47407802]\n",
      " [ 0.6115045   0.45503156]\n",
      " [-0.86578155 -0.90685018]\n",
      " [ 4.03085767  3.05904864]\n",
      " [-0.54712293 -0.86767757]]\n"
     ]
    }
   ],
   "source": [
    "Y_pred=regressor.predict(X_test)\n",
    "Y_pred=Y_pred.reshape(-1,1)\n",
    "# print(Y_test)\n",
    "Y_test=Y_test.reshape(-1,1)\n",
    "df=np.concatenate((Y_test,Y_pred),axis=1)\n",
    "print(df)\n"
   ]
  },
  {
   "cell_type": "code",
   "execution_count": 10,
   "id": "6987d033",
   "metadata": {},
   "outputs": [
    {
     "name": "stdout",
     "output_type": "stream",
     "text": [
      "    Car Price  Predict price\n",
      "0   -0.813331      -0.924489\n",
      "1    0.310350       0.374998\n",
      "2    0.247610       0.138090\n",
      "3   -1.019621      -0.932756\n",
      "4   -0.411792      -0.465196\n",
      "5   -0.260713       0.147474\n",
      "6   -0.989757      -0.921848\n",
      "7   -0.674925      -0.712381\n",
      "8    0.492172       0.569333\n",
      "9   -0.846708      -0.820321\n",
      "10   0.965360       0.725632\n",
      "11   2.274189       2.687740\n",
      "12  -0.292585      -0.072091\n",
      "13   0.635848       0.169195\n",
      "14  -0.547123      -0.854990\n",
      "15  -0.412545      -0.026400\n",
      "16  -0.499628      -0.097066\n",
      "17   0.708125       0.630939\n",
      "18  -0.675302      -0.582328\n",
      "19  -0.851853      -0.859418\n",
      "20  -0.416309      -0.468514\n",
      "21   0.289019       0.218246\n",
      "22  -0.424340      -0.328758\n",
      "23  -0.216795       0.206265\n",
      "24   0.341470       0.540874\n",
      "25  -1.023762      -0.757765\n",
      "26  -0.795387      -0.665854\n",
      "27   0.428930       0.135360\n",
      "28  -0.617204      -0.689427\n",
      "29  -0.975954      -0.618271\n",
      "30  -0.665263      -0.612631\n",
      "31  -0.123813      -0.089420\n",
      "32   1.096864       0.247877\n",
      "33  -0.543170      -0.406921\n",
      "34  -0.806555      -0.765477\n",
      "35   3.518268       2.484049\n",
      "36  -0.211022      -0.474078\n",
      "37   0.611505       0.455032\n",
      "38  -0.865782      -0.906850\n",
      "39   4.030858       3.059049\n",
      "40  -0.547123      -0.867678\n"
     ]
    }
   ],
   "source": [
    "dataframe=pd.DataFrame(df,columns=[\"Car Price\",\"Predict price\"])\n",
    "print(dataframe)\n",
    "dataframe.to_csv(\"Car_prediction.csv\")"
   ]
  },
  {
   "cell_type": "code",
   "execution_count": 11,
   "id": "462f851f",
   "metadata": {},
   "outputs": [
    {
     "data": {
      "text/plain": [
       "0.9072915698781887"
      ]
     },
     "execution_count": 11,
     "metadata": {},
     "output_type": "execute_result"
    }
   ],
   "source": [
    "from sklearn.metrics import r2_score\n",
    "r2_score(Y_test,Y_pred)"
   ]
  },
  {
   "cell_type": "code",
   "execution_count": 12,
   "id": "c829ec5a",
   "metadata": {},
   "outputs": [
    {
     "name": "stdout",
     "output_type": "stream",
     "text": [
      "[-8.32987858]\n"
     ]
    },
    {
     "data": {
      "text/plain": [
       "[-8.32987858]"
      ]
     },
     "execution_count": 12,
     "metadata": {},
     "output_type": "execute_result"
    }
   ],
   "source": [
    "from sklearn.ensemble import RandomForestRegressor\n",
    "from sklearn.datasets import make_regression\n",
    "X, Y = make_regression(n_features=4, n_informative=2,random_state=0, shuffle=False)\n",
    "regr = RandomForestRegressor(max_depth=2, random_state=0)\n",
    "regr.fit(X, Y)\n",
    "RandomForestRegressor(...)\n",
    "print(regr.predict([[0, 0, 0, 0]]))\n",
    "[-8.32987858]"
   ]
  },
  {
   "cell_type": "markdown",
   "id": "4218bb7e",
   "metadata": {},
   "source": [
    "# Ploting or visualizing graphically\n"
   ]
  },
  {
   "cell_type": "code",
   "execution_count": 13,
   "id": "41a753fc",
   "metadata": {},
   "outputs": [
    {
     "name": "stdout",
     "output_type": "stream",
     "text": [
      "164\n",
      "164\n"
     ]
    },
    {
     "data": {
      "image/png": "[encoded data removed]",
      "text/plain": [
       "<Figure size 640x480 with 1 Axes>"
      ]
     },
     "metadata": {},
     "output_type": "display_data"
    }
   ],
   "source": [
    "import matplotlib.pyplot as plt\n",
    "# a=plt.subplots()\n",
    "print(len(X_train))\n",
    "print(len(Y_train))\n",
    "plt.plot(X_train,Y_train,'o')\n",
    "plt.show()"
   ]
  },
  {
   "cell_type": "code",
   "execution_count": 14,
   "id": "7c36c1f8",
   "metadata": {},
   "outputs": [
    {
     "data": {
      "image/png": "[encoded data removed]",
      "text/plain": [
       "<Figure size 640x480 with 1 Axes>"
      ]
     },
     "metadata": {},
     "output_type": "display_data"
    }
   ],
   "source": [
    "# Y_test=np.array(Y_test)\n",
    "# Y_pred=np.array(Y_pred)\n",
    "\n",
    "plt.scatter(Y_test,Y_pred)\n",
    "plt.show()"
   ]
  },
  {
   "cell_type": "code",
   "execution_count": 15,
   "id": "530d6292",
   "metadata": {},
   "outputs": [
    {
     "ename": "ValueError",
     "evalue": "x and y must be the same size",
     "output_type": "error",
     "traceback": [
      "\u001b[1;31m---------------------------------------------------------------------------\u001b[0m",
      "\u001b[1;31mValueError\u001b[0m                                Traceback (most recent call last)",
      "\u001b[1;32m~\\AppData\\Local\\Temp\\ipykernel_10296\\3902797525.py\u001b[0m in \u001b[0;36m<module>\u001b[1;34m\u001b[0m\n\u001b[1;32m----> 1\u001b[1;33m \u001b[0mplt\u001b[0m\u001b[1;33m.\u001b[0m\u001b[0mscatter\u001b[0m\u001b[1;33m(\u001b[0m\u001b[0mX_test\u001b[0m\u001b[1;33m,\u001b[0m\u001b[0mX_train\u001b[0m\u001b[1;33m)\u001b[0m\u001b[1;33m\u001b[0m\u001b[1;33m\u001b[0m\u001b[0m\n\u001b[0m",
      "\u001b[1;32mC:\\ProgramData\\Anaconda3\\lib\\site-packages\\matplotlib\\pyplot.py\u001b[0m in \u001b[0;36mscatter\u001b[1;34m(x, y, s, c, marker, cmap, norm, vmin, vmax, alpha, linewidths, edgecolors, plotnonfinite, data, **kwargs)\u001b[0m\n\u001b[0;32m   2817\u001b[0m         \u001b[0mvmin\u001b[0m\u001b[1;33m=\u001b[0m\u001b[1;32mNone\u001b[0m\u001b[1;33m,\u001b[0m \u001b[0mvmax\u001b[0m\u001b[1;33m=\u001b[0m\u001b[1;32mNone\u001b[0m\u001b[1;33m,\u001b[0m \u001b[0malpha\u001b[0m\u001b[1;33m=\u001b[0m\u001b[1;32mNone\u001b[0m\u001b[1;33m,\u001b[0m \u001b[0mlinewidths\u001b[0m\u001b[1;33m=\u001b[0m\u001b[1;32mNone\u001b[0m\u001b[1;33m,\u001b[0m \u001b[1;33m*\u001b[0m\u001b[1;33m,\u001b[0m\u001b[1;33m\u001b[0m\u001b[1;33m\u001b[0m\u001b[0m\n\u001b[0;32m   2818\u001b[0m         edgecolors=None, plotnonfinite=False, data=None, **kwargs):\n\u001b[1;32m-> 2819\u001b[1;33m     __ret = gca().scatter(\n\u001b[0m\u001b[0;32m   2820\u001b[0m         \u001b[0mx\u001b[0m\u001b[1;33m,\u001b[0m \u001b[0my\u001b[0m\u001b[1;33m,\u001b[0m \u001b[0ms\u001b[0m\u001b[1;33m=\u001b[0m\u001b[0ms\u001b[0m\u001b[1;33m,\u001b[0m \u001b[0mc\u001b[0m\u001b[1;33m=\u001b[0m\u001b[0mc\u001b[0m\u001b[1;33m,\u001b[0m \u001b[0mmarker\u001b[0m\u001b[1;33m=\u001b[0m\u001b[0mmarker\u001b[0m\u001b[1;33m,\u001b[0m \u001b[0mcmap\u001b[0m\u001b[1;33m=\u001b[0m\u001b[0mcmap\u001b[0m\u001b[1;33m,\u001b[0m \u001b[0mnorm\u001b[0m\u001b[1;33m=\u001b[0m\u001b[0mnorm\u001b[0m\u001b[1;33m,\u001b[0m\u001b[1;33m\u001b[0m\u001b[1;33m\u001b[0m\u001b[0m\n\u001b[0;32m   2821\u001b[0m         \u001b[0mvmin\u001b[0m\u001b[1;33m=\u001b[0m\u001b[0mvmin\u001b[0m\u001b[1;33m,\u001b[0m \u001b[0mvmax\u001b[0m\u001b[1;33m=\u001b[0m\u001b[0mvmax\u001b[0m\u001b[1;33m,\u001b[0m \u001b[0malpha\u001b[0m\u001b[1;33m=\u001b[0m\u001b[0malpha\u001b[0m\u001b[1;33m,\u001b[0m \u001b[0mlinewidths\u001b[0m\u001b[1;33m=\u001b[0m\u001b[0mlinewidths\u001b[0m\u001b[1;33m,\u001b[0m\u001b[1;33m\u001b[0m\u001b[1;33m\u001b[0m\u001b[0m\n",
      "\u001b[1;32mC:\\ProgramData\\Anaconda3\\lib\\site-packages\\matplotlib\\__init__.py\u001b[0m in \u001b[0;36minner\u001b[1;34m(ax, data, *args, **kwargs)\u001b[0m\n\u001b[0;32m   1410\u001b[0m     \u001b[1;32mdef\u001b[0m \u001b[0minner\u001b[0m\u001b[1;33m(\u001b[0m\u001b[0max\u001b[0m\u001b[1;33m,\u001b[0m \u001b[1;33m*\u001b[0m\u001b[0margs\u001b[0m\u001b[1;33m,\u001b[0m \u001b[0mdata\u001b[0m\u001b[1;33m=\u001b[0m\u001b[1;32mNone\u001b[0m\u001b[1;33m,\u001b[0m \u001b[1;33m**\u001b[0m\u001b[0mkwargs\u001b[0m\u001b[1;33m)\u001b[0m\u001b[1;33m:\u001b[0m\u001b[1;33m\u001b[0m\u001b[1;33m\u001b[0m\u001b[0m\n\u001b[0;32m   1411\u001b[0m         \u001b[1;32mif\u001b[0m \u001b[0mdata\u001b[0m \u001b[1;32mis\u001b[0m \u001b[1;32mNone\u001b[0m\u001b[1;33m:\u001b[0m\u001b[1;33m\u001b[0m\u001b[1;33m\u001b[0m\u001b[0m\n\u001b[1;32m-> 1412\u001b[1;33m             \u001b[1;32mreturn\u001b[0m \u001b[0mfunc\u001b[0m\u001b[1;33m(\u001b[0m\u001b[0max\u001b[0m\u001b[1;33m,\u001b[0m \u001b[1;33m*\u001b[0m\u001b[0mmap\u001b[0m\u001b[1;33m(\u001b[0m\u001b[0msanitize_sequence\u001b[0m\u001b[1;33m,\u001b[0m \u001b[0margs\u001b[0m\u001b[1;33m)\u001b[0m\u001b[1;33m,\u001b[0m \u001b[1;33m**\u001b[0m\u001b[0mkwargs\u001b[0m\u001b[1;33m)\u001b[0m\u001b[1;33m\u001b[0m\u001b[1;33m\u001b[0m\u001b[0m\n\u001b[0m\u001b[0;32m   1413\u001b[0m \u001b[1;33m\u001b[0m\u001b[0m\n\u001b[0;32m   1414\u001b[0m         \u001b[0mbound\u001b[0m \u001b[1;33m=\u001b[0m \u001b[0mnew_sig\u001b[0m\u001b[1;33m.\u001b[0m\u001b[0mbind\u001b[0m\u001b[1;33m(\u001b[0m\u001b[0max\u001b[0m\u001b[1;33m,\u001b[0m \u001b[1;33m*\u001b[0m\u001b[0margs\u001b[0m\u001b[1;33m,\u001b[0m \u001b[1;33m**\u001b[0m\u001b[0mkwargs\u001b[0m\u001b[1;33m)\u001b[0m\u001b[1;33m\u001b[0m\u001b[1;33m\u001b[0m\u001b[0m\n",
      "\u001b[1;32mC:\\ProgramData\\Anaconda3\\lib\\site-packages\\matplotlib\\axes\\_axes.py\u001b[0m in \u001b[0;36mscatter\u001b[1;34m(self, x, y, s, c, marker, cmap, norm, vmin, vmax, alpha, linewidths, edgecolors, plotnonfinite, **kwargs)\u001b[0m\n\u001b[0;32m   4360\u001b[0m         \u001b[0my\u001b[0m \u001b[1;33m=\u001b[0m \u001b[0mnp\u001b[0m\u001b[1;33m.\u001b[0m\u001b[0mma\u001b[0m\u001b[1;33m.\u001b[0m\u001b[0mravel\u001b[0m\u001b[1;33m(\u001b[0m\u001b[0my\u001b[0m\u001b[1;33m)\u001b[0m\u001b[1;33m\u001b[0m\u001b[1;33m\u001b[0m\u001b[0m\n\u001b[0;32m   4361\u001b[0m         \u001b[1;32mif\u001b[0m \u001b[0mx\u001b[0m\u001b[1;33m.\u001b[0m\u001b[0msize\u001b[0m \u001b[1;33m!=\u001b[0m \u001b[0my\u001b[0m\u001b[1;33m.\u001b[0m\u001b[0msize\u001b[0m\u001b[1;33m:\u001b[0m\u001b[1;33m\u001b[0m\u001b[1;33m\u001b[0m\u001b[0m\n\u001b[1;32m-> 4362\u001b[1;33m             \u001b[1;32mraise\u001b[0m \u001b[0mValueError\u001b[0m\u001b[1;33m(\u001b[0m\u001b[1;34m\"x and y must be the same size\"\u001b[0m\u001b[1;33m)\u001b[0m\u001b[1;33m\u001b[0m\u001b[1;33m\u001b[0m\u001b[0m\n\u001b[0m\u001b[0;32m   4363\u001b[0m \u001b[1;33m\u001b[0m\u001b[0m\n\u001b[0;32m   4364\u001b[0m         \u001b[1;32mif\u001b[0m \u001b[0ms\u001b[0m \u001b[1;32mis\u001b[0m \u001b[1;32mNone\u001b[0m\u001b[1;33m:\u001b[0m\u001b[1;33m\u001b[0m\u001b[1;33m\u001b[0m\u001b[0m\n",
      "\u001b[1;31mValueError\u001b[0m: x and y must be the same size"
     ]
    },
    {
     "data": {
      "image/png": "[encoded data removed]",
      "text/plain": [
       "<Figure size 640x480 with 1 Axes>"
      ]
     },
     "metadata": {},
     "output_type": "display_data"
    }
   ],
   "source": [
    "plt.scatter(X_test,X_train)"
   ]
  },
  {
   "cell_type": "code",
   "execution_count": null,
   "id": "2861d66c",
   "metadata": {},
   "outputs": [],
   "source": []
  }
 ],
 "metadata": {
  "kernelspec": {
   "display_name": "Python 3 (ipykernel)",
   "language": "python",
   "name": "python3"
  },
  "language_info": {
   "codemirror_mode": {
    "name": "ipython",
    "version": 3
   },
   "file_extension": ".py",
   "mimetype": "text/x-python",
   "name": "python",
   "nbconvert_exporter": "python",
   "pygments_lexer": "ipython3",
   "version": "3.9.13"
  }
 },
 "nbformat": 4,
 "nbformat_minor": 5
}
